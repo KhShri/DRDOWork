{
 "cells": [
  {
   "cell_type": "markdown",
   "id": "69596827-6a0a-430a-828f-f20c04412290",
   "metadata": {},
   "source": [
    "## Speck32 Encryption Algorithm"
   ]
  },
  {
   "cell_type": "code",
   "execution_count": 1,
   "id": "5b1afd42-3fd8-44f7-beb5-8401a412e679",
   "metadata": {},
   "outputs": [],
   "source": [
    "import random\n",
    "import numpy as np"
   ]
  },
  {
   "cell_type": "code",
   "execution_count": 2,
   "id": "e54ccb0d-3685-40fd-86d7-679415a726b4",
   "metadata": {},
   "outputs": [],
   "source": [
    "def speck32_encrypt(plaintext, key):\n",
    "    R = 22\n",
    "    w = 16\n",
    "    K = [key & 0xFFFF, (key >> 16) & 0xFFFF]\n",
    "    x = plaintext & 0xFFFF\n",
    "    y = (plaintext >> 16) & 0xFFFF\n",
    "    round_constants = [(i + 1) & 0xFFFF for i in range(R)]\n",
    "    for i in range(R):\n",
    "        x = (x + K[0]) & 0xFFFF\n",
    "        x = ((x << 8) | (x >> 8)) & 0xFFFF\n",
    "        x = (x ^ y) & 0xFFFF\n",
    "        y = ((y << 3) | (y >> (w - 3))) & 0xFFFF\n",
    "        y = (y ^ x) & 0xFFFF\n",
    "        K[0] = (K[0] + round_constants[i]) & 0xFFFF\n",
    "    return (y << 16) | x"
   ]
  },
  {
   "cell_type": "markdown",
   "id": "ef8909c7-e760-41fc-ac98-5d7f962d64da",
   "metadata": {},
   "source": [
    "## Generating Keystream"
   ]
  },
  {
   "cell_type": "code",
   "execution_count": 3,
   "id": "72933d11-4975-4c8e-a658-6b2afed50bec",
   "metadata": {},
   "outputs": [],
   "source": [
    "key = random.getrandbits(32)\n",
    "with open('speck32_keystream.bin', 'wb') as f:\n",
    "    for _ in range(10000): \n",
    "        keystream_block = speck32_encrypt(random.getrandbits(32), key)\n",
    "        f.write(keystream_block.to_bytes(4, 'little'))"
   ]
  },
  {
   "cell_type": "markdown",
   "id": "e418b8f3-74bc-46a0-b3e6-b556a0fd1320",
   "metadata": {},
   "source": [
    "## Encrypting the Message"
   ]
  },
  {
   "cell_type": "code",
   "execution_count": 4,
   "id": "690a3f57-7d0f-47d4-bb02-d6e5b6428ce0",
   "metadata": {},
   "outputs": [],
   "source": [
    "plaintext = \"My name is Khushi\"\n",
    "plaintext_bytes = bytearray(plaintext, 'utf-8')"
   ]
  },
  {
   "cell_type": "code",
   "execution_count": 5,
   "id": "574e2ab9-f230-4352-8f7a-e10a8c668043",
   "metadata": {},
   "outputs": [],
   "source": [
    "with open('speck32_keystream.bin', 'rb') as f:\n",
    "    keystream = f.read(len(plaintext_bytes))"
   ]
  },
  {
   "cell_type": "code",
   "execution_count": 6,
   "id": "6cf21c20-9413-44d6-9d09-60a0bbff2d7c",
   "metadata": {},
   "outputs": [],
   "source": [
    "encrypted_bytes = bytearray(a ^ b for a, b in zip(plaintext_bytes, keystream))"
   ]
  },
  {
   "cell_type": "code",
   "execution_count": 7,
   "id": "85899913-beda-4ac2-91bb-b8d9f081166b",
   "metadata": {},
   "outputs": [],
   "source": [
    "with open('encrypted_text.bin', 'wb') as f:\n",
    "    f.write(encrypted_bytes)"
   ]
  },
  {
   "cell_type": "code",
   "execution_count": 8,
   "id": "25f60582-e431-40bf-8a2f-1fff5c499564",
   "metadata": {},
   "outputs": [
    {
     "name": "stdout",
     "output_type": "stream",
     "text": [
      "Original plaintext: My name is Khushi\n"
     ]
    }
   ],
   "source": [
    "print(\"Original plaintext:\", plaintext)"
   ]
  },
  {
   "cell_type": "code",
   "execution_count": 10,
   "id": "71aa2ef1-716a-485a-9bea-d057532ac077",
   "metadata": {},
   "outputs": [
    {
     "name": "stdout",
     "output_type": "stream",
     "text": [
      "Encrypted bytes: bytearray(b'\\t\\rA\\xc2x\\xe6\\xe3\\x86\\xc4\\x13s\\xc3\\xff\\xc7\\x05\\xf8\\x03')\n"
     ]
    }
   ],
   "source": [
    "print(\"Encrypted bytes:\", encrypted_bytes)"
   ]
  },
  {
   "cell_type": "markdown",
   "id": "f5af96ba-8d2e-4117-b9c7-2354c0e96209",
   "metadata": {},
   "source": [
    "## Decryption Process"
   ]
  },
  {
   "cell_type": "code",
   "execution_count": 11,
   "id": "4db60a61-a883-40ff-bb30-c2ffcaed7c6d",
   "metadata": {},
   "outputs": [],
   "source": [
    "with open('speck32_keystream.bin', 'rb') as f:\n",
    "    keystream = f.read(len(plaintext_bytes))"
   ]
  },
  {
   "cell_type": "code",
   "execution_count": 12,
   "id": "7f730de7-a276-4dea-b9a3-dffe3246b6ea",
   "metadata": {},
   "outputs": [],
   "source": [
    "with open('encrypted_text.bin', 'rb') as f:\n",
    "    encrypted_bytes = f.read()"
   ]
  },
  {
   "cell_type": "code",
   "execution_count": 13,
   "id": "8b003f32-0631-4706-aa35-94d496228396",
   "metadata": {},
   "outputs": [],
   "source": [
    "decrypted_bytes = bytearray(a ^ b for a, b in zip(encrypted_bytes, keystream))"
   ]
  },
  {
   "cell_type": "code",
   "execution_count": 14,
   "id": "33020d87-2c0a-4a2c-b89d-5b73d1e45b4d",
   "metadata": {},
   "outputs": [],
   "source": [
    "decrypted_text = decrypted_bytes.decode('utf-8')"
   ]
  },
  {
   "cell_type": "code",
   "execution_count": 15,
   "id": "43c64f0a-bce3-4caf-be96-e1ffed75a4a1",
   "metadata": {},
   "outputs": [
    {
     "name": "stdout",
     "output_type": "stream",
     "text": [
      "Decrypted text: My name is Khushi\n"
     ]
    }
   ],
   "source": [
    "print(\"Decrypted text:\", decrypted_text)"
   ]
  }
 ],
 "metadata": {
  "kernelspec": {
   "display_name": "Python 3 (ipykernel)",
   "language": "python",
   "name": "python3"
  },
  "language_info": {
   "codemirror_mode": {
    "name": "ipython",
    "version": 3
   },
   "file_extension": ".py",
   "mimetype": "text/x-python",
   "name": "python",
   "nbconvert_exporter": "python",
   "pygments_lexer": "ipython3",
   "version": "3.9.13"
  }
 },
 "nbformat": 4,
 "nbformat_minor": 5
}
